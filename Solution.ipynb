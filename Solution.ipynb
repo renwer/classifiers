{
 "cells": [
  {
   "cell_type": "code",
   "execution_count": 11,
   "metadata": {},
   "outputs": [],
   "source": [
    "# all the standard libraries imports\n",
    "import pandas as pd\n",
    "import numpy as np \n",
    "import sklearn as sk\n",
    "import string\n",
    "\n",
    "# metrics reporting imports\n",
    "from sklearn.metrics import classification_report\n",
    "from sklearn.metrics import confusion_matrix\n",
    "from sklearn.metrics import accuracy_score\n",
    "\n",
    "# models imports\n",
    "from sklearn import tree\n",
    "from sklearn.ensemble import RandomForestClassifier\n",
    "from sklearn.ensemble import RandomForestRegressor\n",
    "from sklearn.svm import SVC\n",
    "from sklearn.svm import SVR\n",
    "from sklearn import neighbors\n",
    "from sklearn.naive_bayes import GaussianNB\n",
    "from sklearn.neural_network import MLPClassifier\n",
    "from sklearn.neural_network import MLPRegressor\n",
    "from sklearn.gaussian_process import GaussianProcessClassifier\n",
    "from sklearn.gaussian_process import GaussianProcessRegressor\n",
    "from sklearn.linear_model import SGDClassifier\n",
    "from sklearn.linear_model import SGDRegressor\n",
    "from sklearn.multiclass import OneVsRestClassifier\n",
    "\n",
    "# others\n",
    "from sklearn.model_selection import train_test_split\n",
    "from sklearn.preprocessing import OneHotEncoder"
   ]
  },
  {
   "cell_type": "code",
   "execution_count": 12,
   "metadata": {},
   "outputs": [],
   "source": [
    "# load the datasets\n",
    "advertising = pd.read_csv('./data/Advertising.csv', index_col = 0) # no need for OHE\n",
    "college = pd.read_csv('./data/College.csv', index_col = 0)\n",
    "auto = pd.read_csv('./data/Auto.csv') # ordinal data in \"year\"\n",
    "ch10ex11 = pd.read_csv('./data/Ch10Ex11.csv') # no need for OHE \n",
    "credit = pd.read_csv('./data/Credit.csv', index_col = 0) # OHE \"ethnicity\", \"gender\", \"student\" and \"married\".\n",
    "fortune500 = pd.read_csv('./data/fortune500.csv', index_col='Rank') # ordinal data in \"year\", categorical in \"company\". \n",
    "heart = pd.read_csv('./data/Heart.csv', index_col = 0) # OHE chestpain, classify for ADH \n",
    "income1 = pd.read_csv('./data/income1.csv', index_col = 0) # no need for OHE\n",
    "income2 = pd.read_csv('./data/income2.csv', index_col = 0) # no need for OHE \n",
    "iris = pd.read_csv('./data/iris.csv', index_col = 'Id') # no need for OHE, classify for species - ready\n",
    "iris5 = pd.read_csv('./data/iris5.csv') # no need for OHE, classify for species - ready\n",
    "SAheart1 = pd.read_csv('./data/SAheart.csv') # OHE famhist, classify for chd\n",
    "SAheart2 = pd.read_csv('./data/SAheart2.csv', index_col = 'row.names') # OHE famhist, classify for chd\n",
    "# all ids are kept in index columns"
   ]
  },
  {
   "cell_type": "code",
   "execution_count": 15,
   "metadata": {
    "scrolled": true
   },
   "outputs": [],
   "source": [
    "arr1 = list(string.ascii_lowercase)\n",
    "arr2 = [(letter + letter) for letter in arr1[:14]]\n",
    "ch10ex11.columns = arr1 + arr2\n",
    "\n",
    "fortune500.rename(columns={'Profit (in millions)':'Profit'}, inplace=True)\n",
    "college.rename(columns={'Grad.Rate':'Gradrate'}, inplace=True)\n",
    "fortune500 = fortune500.dropna()\n",
    "heart = heart.dropna()\n",
    "\n",
    "# replace categorical and ordinal features with one-hot encoding where necessary\n",
    "SAheart1 = pd.get_dummies(SAheart1, columns = ['famhist'], drop_first = True)\n",
    "SAheart2 = pd.get_dummies(SAheart2, columns = ['famhist'], drop_first = True)\n",
    "auto = pd.get_dummies(auto, columns = ['year'], drop_first = True) # year_70 is a baseline, classify for 'name'\n",
    "credit = pd.get_dummies(credit, columns = [\"Ethnicity\", \"Gender\", \"Student\", \"Married\"], drop_first = True)\n",
    "fortune500 = pd.get_dummies(fortune500, columns = [\"Year\", \"Company\"], drop_first = True)\n",
    "heart = pd.get_dummies(heart, columns = [\"ChestPain\", \"Thal\"], drop_first = True)\n",
    "college = pd.get_dummies(college, columns = [\"Private\"], drop_first = True)"
   ]
  },
  {
   "cell_type": "code",
   "execution_count": 16,
   "metadata": {},
   "outputs": [],
   "source": [
    "def split_data(dataframe, target_column):\n",
    "    # returns X_train, X_test, y_train, y_test\n",
    "    return train_test_split(dataframe.drop(target_column, axis = 1), dataframe[[target_column]], test_size = 0.3, random_state = 100)"
   ]
  },
  {
   "cell_type": "code",
   "execution_count": 17,
   "metadata": {},
   "outputs": [],
   "source": [
    "# function for printing a report on certain model's accuracy on a given dataset\n",
    "def evaluate_classifier(model_name, dataset_name, model, dataset, target_column):\n",
    "    X_train, X_test, y_train, y_test = split_data(dataset, target_column)\n",
    "    model.fit(X_train, y_train.values.ravel())    # build the model on training data\n",
    "    y_pred = model.predict(X_test)    # make predictions for test data\n",
    "    accuracy = accuracy_score(y_test, y_pred) * 100    # calculate the accuracy score\n",
    "    print(f'{model_name} accuracy on {dataset_name} is: {accuracy}')\n",
    "    \n",
    "def evaluate_regressor(model_name, dataset_name, model, dataset, target_column):\n",
    "    X_train, X_test, y_train, y_test = split_data(dataset, target_column)\n",
    "    model.fit(X_train, y_train.values.ravel()) #  build the model on training data\n",
    "    y_pred = model.predict(X_test) # make predictions for test data\n",
    "    score = model.score(dataset.drop(target_column, axis = 1), dataset[[target_column]])    # calculate the RSS\n",
    "    print(f'{model_name} score on {dataset_name} is: {score}')"
   ]
  },
  {
   "cell_type": "code",
   "execution_count": 18,
   "metadata": {},
   "outputs": [],
   "source": [
    "# to report the performance of all considered classifiers for a given dataset\n",
    "def report_all_classifiers(dataset_name, dataset, target_column):\n",
    "    evaluate_classifier(\"Decision tree classifier\", dataset_name, tree.DecisionTreeClassifier(criterion='entropy', max_depth=5), dataset, target_column)\n",
    "    evaluate_classifier(\"Random forest\", dataset_name, RandomForestClassifier(n_estimators=10), dataset, target_column)\n",
    "    evaluate_classifier(\"SVC\", dataset_name, SVC(gamma='auto'), dataset, target_column)\n",
    "    evaluate_classifier(\"K Nearest Neighbors\", dataset_name, neighbors.KNeighborsClassifier(), dataset, target_column)\n",
    "    evaluate_classifier(\"Gaussian Naive Bayes\", dataset_name, GaussianNB(), dataset, target_column)\n",
    "    evaluate_classifier(\"Multilayer perceptron(neural network)\", dataset_name, MLPClassifier(), dataset, target_column)\n",
    "    evaluate_classifier(\"Gaussian process classifier\", dataset_name, GaussianProcessClassifier(), dataset, target_column)\n",
    "    evaluate_classifier(\"SGD\", dataset_name, OneVsRestClassifier(SGDClassifier()), dataset, target_column)\n",
    "    \n",
    "def report_all_regressors(dataset_name, dataset, target_column):  \n",
    "    evaluate_regressor(\"Decision tree regressor\", dataset_name, tree.DecisionTreeRegressor(criterion='mse', max_depth=5), dataset, target_column)\n",
    "    evaluate_regressor(\"Random forest regressor\", dataset_name, RandomForestRegressor(n_estimators=10), dataset, target_column)\n",
    "    evaluate_regressor(\"SVR\", dataset_name, SVR(gamma='auto'), dataset, target_column)\n",
    "    evaluate_regressor(\"K Nearest Neighbors\", dataset_name, neighbors.KNeighborsRegressor(), dataset, target_column)\n",
    "    evaluate_regressor(\"Multilayer perceptron(neural network)\", dataset_name, MLPRegressor(), dataset, target_column)\n",
    "    evaluate_regressor(\"Gaussian process regressor\", dataset_name, GaussianProcessRegressor(), dataset, target_column)\n",
    "    evaluate_regressor(\"SGD\", dataset_name, SGDRegressor(), dataset, target_column)"
   ]
  },
  {
   "cell_type": "code",
   "execution_count": 19,
   "metadata": {},
   "outputs": [
    {
     "name": "stdout",
     "output_type": "stream",
     "text": [
      "Decision tree classifier accuracy on Iris is: 95.55555555555556\n",
      "Random forest accuracy on Iris is: 95.55555555555556\n",
      "SVC accuracy on Iris is: 97.77777777777777\n",
      "K Nearest Neighbors accuracy on Iris is: 97.77777777777777\n",
      "Gaussian Naive Bayes accuracy on Iris is: 95.55555555555556\n",
      "Multilayer perceptron(neural network) accuracy on Iris is: 100.0\n",
      "Gaussian process classifier accuracy on Iris is: 95.55555555555556\n",
      "SGD accuracy on Iris is: 95.55555555555556\n"
     ]
    },
    {
     "name": "stderr",
     "output_type": "stream",
     "text": [
      "D:\\Anaconda\\lib\\site-packages\\sklearn\\neural_network\\multilayer_perceptron.py:566: ConvergenceWarning: Stochastic Optimizer: Maximum iterations (200) reached and the optimization hasn't converged yet.\n",
      "  % self.max_iter, ConvergenceWarning)\n"
     ]
    }
   ],
   "source": [
    "report_all_classifiers(\"Iris\", iris, \"Species\") # works well"
   ]
  },
  {
   "cell_type": "code",
   "execution_count": 20,
   "metadata": {},
   "outputs": [
    {
     "name": "stdout",
     "output_type": "stream",
     "text": [
      "Decision tree classifier accuracy on Auto is: 3.389830508474576\n",
      "Random forest accuracy on Auto is: 2.5423728813559325\n",
      "SVC accuracy on Auto is: 0.847457627118644\n",
      "K Nearest Neighbors accuracy on Auto is: 1.694915254237288\n",
      "Gaussian Naive Bayes accuracy on Auto is: 2.5423728813559325\n",
      "Multilayer perceptron(neural network) accuracy on Auto is: 0.847457627118644\n",
      "Gaussian process classifier accuracy on Auto is: 0.847457627118644\n",
      "SGD accuracy on Auto is: 0.0\n"
     ]
    }
   ],
   "source": [
    "report_all_classifiers(\"Auto\", auto, \"name\") # results very low :("
   ]
  },
  {
   "cell_type": "code",
   "execution_count": 21,
   "metadata": {},
   "outputs": [
    {
     "name": "stdout",
     "output_type": "stream",
     "text": [
      "Decision tree regressor score on ch10ex11 is: 0.3302193428481114\n",
      "Random forest regressor score on ch10ex11 is: 0.6230212709639362\n",
      "SVR score on ch10ex11 is: 0.5563103320710193\n",
      "K Nearest Neighbors score on ch10ex11 is: 0.3662756639269928\n",
      "Multilayer perceptron(neural network) score on ch10ex11 is: 0.5844228405036171\n",
      "Gaussian process regressor score on ch10ex11 is: 0.682391045767796\n",
      "SGD score on ch10ex11 is: 0.25144023328188414\n"
     ]
    },
    {
     "name": "stderr",
     "output_type": "stream",
     "text": [
      "D:\\Anaconda\\lib\\site-packages\\sklearn\\neural_network\\multilayer_perceptron.py:566: ConvergenceWarning: Stochastic Optimizer: Maximum iterations (200) reached and the optimization hasn't converged yet.\n",
      "  % self.max_iter, ConvergenceWarning)\n"
     ]
    }
   ],
   "source": [
    "report_all_regressors(\"ch10ex11\", ch10ex11, \"nn\")"
   ]
  },
  {
   "cell_type": "code",
   "execution_count": 22,
   "metadata": {},
   "outputs": [
    {
     "name": "stdout",
     "output_type": "stream",
     "text": [
      "Decision tree regressor score on Advertising is: 0.9756368411531154\n",
      "Random forest regressor score on Advertising is: 0.9889506633909582\n",
      "SVR score on Advertising is: 0.14297617464062307\n",
      "K Nearest Neighbors score on Advertising is: 0.9351074123633766\n",
      "Multilayer perceptron(neural network) score on Advertising is: -0.3684617632447509\n",
      "Gaussian process regressor score on Advertising is: -1.516157136088004\n",
      "SGD score on Advertising is: -7.734379305722402e+25\n"
     ]
    }
   ],
   "source": [
    "report_all_regressors(\"Advertising\", advertising, \"sales\")"
   ]
  },
  {
   "cell_type": "code",
   "execution_count": 23,
   "metadata": {},
   "outputs": [
    {
     "name": "stdout",
     "output_type": "stream",
     "text": [
      "Decision tree regressor score on Income is: 0.9749849000300786\n",
      "Random forest regressor score on Income is: 0.9700660667795222\n",
      "SVR score on Income is: 0.20389819583580548\n",
      "K Nearest Neighbors score on Income is: 0.9658378246095239\n",
      "Multilayer perceptron(neural network) score on Income is: 0.5127373035378616\n",
      "Gaussian process regressor score on Income is: -1176.0849285773018\n",
      "SGD score on Income is: 0.7768090873943498\n"
     ]
    },
    {
     "name": "stderr",
     "output_type": "stream",
     "text": [
      "D:\\Anaconda\\lib\\site-packages\\sklearn\\neural_network\\multilayer_perceptron.py:566: ConvergenceWarning: Stochastic Optimizer: Maximum iterations (200) reached and the optimization hasn't converged yet.\n",
      "  % self.max_iter, ConvergenceWarning)\n"
     ]
    }
   ],
   "source": [
    "report_all_regressors(\"Income\", income1, \"Income\")"
   ]
  },
  {
   "cell_type": "code",
   "execution_count": 24,
   "metadata": {},
   "outputs": [
    {
     "name": "stdout",
     "output_type": "stream",
     "text": [
      "Decision tree regressor score on Income2 is: 0.9412411103436541\n",
      "Random forest regressor score on Income2 is: 0.9623491520872988\n",
      "SVR score on Income2 is: -0.14259757674899665\n",
      "K Nearest Neighbors score on Income2 is: 0.3938713741179512\n",
      "Multilayer perceptron(neural network) score on Income2 is: 0.6894943574500172\n",
      "Gaussian process regressor score on Income2 is: -0.1953245299854478\n",
      "SGD score on Income2 is: -3.4736623482284055e+23\n"
     ]
    },
    {
     "name": "stderr",
     "output_type": "stream",
     "text": [
      "D:\\Anaconda\\lib\\site-packages\\sklearn\\neural_network\\multilayer_perceptron.py:566: ConvergenceWarning: Stochastic Optimizer: Maximum iterations (200) reached and the optimization hasn't converged yet.\n",
      "  % self.max_iter, ConvergenceWarning)\n"
     ]
    }
   ],
   "source": [
    "report_all_regressors(\"Income2\", income2, \"Income\")"
   ]
  },
  {
   "cell_type": "code",
   "execution_count": 25,
   "metadata": {},
   "outputs": [
    {
     "name": "stdout",
     "output_type": "stream",
     "text": [
      "Decision tree regressor score on Credit is: 0.9316660341781899\n",
      "Random forest regressor score on Credit is: 0.9609537412901953\n",
      "SVR score on Credit is: -0.004675177596823676\n",
      "K Nearest Neighbors score on Credit is: 0.8329360066793079\n",
      "Multilayer perceptron(neural network) score on Credit is: 0.8203394381233609\n",
      "Gaussian process regressor score on Credit is: 0.307147675677481\n",
      "SGD score on Credit is: -4.594176735614397e+25\n"
     ]
    },
    {
     "name": "stderr",
     "output_type": "stream",
     "text": [
      "D:\\Anaconda\\lib\\site-packages\\sklearn\\neural_network\\multilayer_perceptron.py:566: ConvergenceWarning: Stochastic Optimizer: Maximum iterations (200) reached and the optimization hasn't converged yet.\n",
      "  % self.max_iter, ConvergenceWarning)\n"
     ]
    }
   ],
   "source": [
    "report_all_regressors(\"Credit\", credit, \"Balance\")"
   ]
  },
  {
   "cell_type": "code",
   "execution_count": null,
   "metadata": {},
   "outputs": [
    {
     "name": "stdout",
     "output_type": "stream",
     "text": [
      "Decision tree regressor score on fortune500 is: 0.6436235709301354\n",
      "Random forest regressor score on fortune500 is: 0.8296673384841631\n"
     ]
    }
   ],
   "source": [
    "report_all_regressors(\"fortune500\", fortune500, \"Profit\") # too many parameters - hangs"
   ]
  },
  {
   "cell_type": "code",
   "execution_count": 26,
   "metadata": {},
   "outputs": [
    {
     "name": "stdout",
     "output_type": "stream",
     "text": [
      "Decision tree classifier accuracy on Heart is: 71.11111111111111\n",
      "Random forest accuracy on Heart is: 75.55555555555556\n",
      "SVC accuracy on Heart is: 57.77777777777777\n",
      "K Nearest Neighbors accuracy on Heart is: 64.44444444444444\n",
      "Gaussian Naive Bayes accuracy on Heart is: 81.11111111111111\n",
      "Multilayer perceptron(neural network) accuracy on Heart is: 80.0\n",
      "Gaussian process classifier accuracy on Heart is: 52.22222222222223\n",
      "SGD accuracy on Heart is: 67.77777777777779\n"
     ]
    }
   ],
   "source": [
    "report_all_classifiers(\"Heart\", heart, \"AHD\") "
   ]
  },
  {
   "cell_type": "code",
   "execution_count": 27,
   "metadata": {},
   "outputs": [
    {
     "name": "stdout",
     "output_type": "stream",
     "text": [
      "Decision tree regressor score on College is: 0.49112017371566874\n",
      "Random forest regressor score on College is: 0.7607726057807915\n",
      "SVR score on College is: 0.06451694002993469\n",
      "K Nearest Neighbors score on College is: 0.4521040633675055\n",
      "Multilayer perceptron(neural network) score on College is: -5.0112176093562155\n",
      "Gaussian process regressor score on College is: -3.5661313827061343\n",
      "SGD score on College is: -1.799410748079277e+32\n"
     ]
    },
    {
     "name": "stderr",
     "output_type": "stream",
     "text": [
      "D:\\Anaconda\\lib\\site-packages\\sklearn\\neural_network\\multilayer_perceptron.py:566: ConvergenceWarning: Stochastic Optimizer: Maximum iterations (200) reached and the optimization hasn't converged yet.\n",
      "  % self.max_iter, ConvergenceWarning)\n"
     ]
    }
   ],
   "source": [
    "report_all_regressors(\"College\", college, \"Gradrate\")"
   ]
  },
  {
   "cell_type": "code",
   "execution_count": 28,
   "metadata": {},
   "outputs": [
    {
     "name": "stdout",
     "output_type": "stream",
     "text": [
      "Decision tree classifier accuracy on SAheart1 is: 65.46762589928058\n",
      "Random forest accuracy on SAheart1 is: 68.34532374100719\n",
      "SVC accuracy on SAheart1 is: 62.589928057553955\n",
      "K Nearest Neighbors accuracy on SAheart1 is: 61.15107913669065\n",
      "Gaussian Naive Bayes accuracy on SAheart1 is: 74.10071942446042\n",
      "Multilayer perceptron(neural network) accuracy on SAheart1 is: 72.66187050359713\n",
      "Gaussian process classifier accuracy on SAheart1 is: 57.55395683453237\n",
      "SGD accuracy on SAheart1 is: 71.94244604316546\n"
     ]
    },
    {
     "name": "stderr",
     "output_type": "stream",
     "text": [
      "D:\\Anaconda\\lib\\site-packages\\sklearn\\neural_network\\multilayer_perceptron.py:566: ConvergenceWarning: Stochastic Optimizer: Maximum iterations (200) reached and the optimization hasn't converged yet.\n",
      "  % self.max_iter, ConvergenceWarning)\n"
     ]
    }
   ],
   "source": [
    "report_all_classifiers(\"SAheart1\", SAheart1, \"chd\")"
   ]
  },
  {
   "cell_type": "code",
   "execution_count": 29,
   "metadata": {},
   "outputs": [
    {
     "name": "stdout",
     "output_type": "stream",
     "text": [
      "Decision tree classifier accuracy on SAheart2 is: 65.46762589928058\n",
      "Random forest accuracy on SAheart2 is: 66.18705035971223\n",
      "SVC accuracy on SAheart2 is: 62.589928057553955\n",
      "K Nearest Neighbors accuracy on SAheart2 is: 61.15107913669065\n",
      "Gaussian Naive Bayes accuracy on SAheart2 is: 74.10071942446042\n",
      "Multilayer perceptron(neural network) accuracy on SAheart2 is: 71.94244604316546\n",
      "Gaussian process classifier accuracy on SAheart2 is: 57.55395683453237\n",
      "SGD accuracy on SAheart2 is: 62.589928057553955\n"
     ]
    }
   ],
   "source": [
    "report_all_classifiers(\"SAheart2\", SAheart2, \"chd\")"
   ]
  }
 ],
 "metadata": {
  "kernelspec": {
   "display_name": "Python 3",
   "language": "python",
   "name": "python3"
  },
  "language_info": {
   "codemirror_mode": {
    "name": "ipython",
    "version": 3
   },
   "file_extension": ".py",
   "mimetype": "text/x-python",
   "name": "python",
   "nbconvert_exporter": "python",
   "pygments_lexer": "ipython3",
   "version": "3.7.4"
  }
 },
 "nbformat": 4,
 "nbformat_minor": 2
}
